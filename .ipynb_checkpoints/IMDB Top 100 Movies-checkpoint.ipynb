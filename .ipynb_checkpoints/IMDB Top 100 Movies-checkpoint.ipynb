{
 "cells": [
  {
   "cell_type": "code",
   "execution_count": 1,
   "metadata": {
    "collapsed": true
   },
   "outputs": [],
   "source": [
    "import os\n",
    "import pandas as pd\n",
    "import numpy as np\n",
    "import requests\n",
    "import seaborn as sns"
   ]
  },
  {
   "cell_type": "markdown",
   "metadata": {},
   "source": [
    "# Pandas section"
   ]
  },
  {
   "cell_type": "markdown",
   "metadata": {},
   "source": [
    "Read in data as .csv from repo:"
   ]
  },
  {
   "cell_type": "code",
   "execution_count": 2,
   "metadata": {
    "collapsed": true
   },
   "outputs": [],
   "source": [
    "imdb_df = pd.read_csv('https://raw.githubusercontent.com/whsky/imdb_100/master/data/imdb_100.csv')"
   ]
  },
  {
   "cell_type": "code",
   "execution_count": 4,
   "metadata": {
    "collapsed": false
   },
   "outputs": [
    {
     "data": {
      "text/html": [
       "<div>\n",
       "<table border=\"1\" class=\"dataframe\">\n",
       "  <thead>\n",
       "    <tr style=\"text-align: right;\">\n",
       "      <th></th>\n",
       "      <th>star_rating</th>\n",
       "      <th>title</th>\n",
       "      <th>year</th>\n",
       "      <th>content_rating</th>\n",
       "      <th>genre</th>\n",
       "      <th>duration</th>\n",
       "      <th>gross</th>\n",
       "    </tr>\n",
       "  </thead>\n",
       "  <tbody>\n",
       "    <tr>\n",
       "      <th>0</th>\n",
       "      <td>9.3</td>\n",
       "      <td>The Shawshank Redemption</td>\n",
       "      <td>1994</td>\n",
       "      <td>R</td>\n",
       "      <td>Drama</td>\n",
       "      <td>142</td>\n",
       "      <td>1963330</td>\n",
       "    </tr>\n",
       "    <tr>\n",
       "      <th>1</th>\n",
       "      <td>9.2</td>\n",
       "      <td>The Godfather</td>\n",
       "      <td>1972</td>\n",
       "      <td>R</td>\n",
       "      <td>Crime</td>\n",
       "      <td>175</td>\n",
       "      <td>28341469</td>\n",
       "    </tr>\n",
       "    <tr>\n",
       "      <th>2</th>\n",
       "      <td>9.0</td>\n",
       "      <td>The Dark Knight</td>\n",
       "      <td>2008</td>\n",
       "      <td>PG-13</td>\n",
       "      <td>Action</td>\n",
       "      <td>152</td>\n",
       "      <td>1344258</td>\n",
       "    </tr>\n",
       "    <tr>\n",
       "      <th>3</th>\n",
       "      <td>9.0</td>\n",
       "      <td>The Godfather: Part II</td>\n",
       "      <td>1974</td>\n",
       "      <td>R</td>\n",
       "      <td>Crime</td>\n",
       "      <td>202</td>\n",
       "      <td>134966411</td>\n",
       "    </tr>\n",
       "    <tr>\n",
       "      <th>4</th>\n",
       "      <td>8.9</td>\n",
       "      <td>Pulp Fiction</td>\n",
       "      <td>1994</td>\n",
       "      <td>R</td>\n",
       "      <td>Crime</td>\n",
       "      <td>154</td>\n",
       "      <td>1935047</td>\n",
       "    </tr>\n",
       "  </tbody>\n",
       "</table>\n",
       "</div>"
      ],
      "text/plain": [
       "   star_rating                     title  year content_rating  \\\n",
       "0          9.3  The Shawshank Redemption  1994              R   \n",
       "1          9.2             The Godfather  1972              R   \n",
       "2          9.0           The Dark Knight  2008          PG-13   \n",
       "3          9.0    The Godfather: Part II  1974              R   \n",
       "4          8.9              Pulp Fiction  1994              R   \n",
       "\n",
       "               genre  duration      gross  \n",
       "0  Drama                   142    1963330  \n",
       "1              Crime       175   28341469  \n",
       "2             Action       152    1344258  \n",
       "3              Crime       202  134966411  \n",
       "4              Crime       154    1935047  "
      ]
     },
     "execution_count": 4,
     "metadata": {},
     "output_type": "execute_result"
    }
   ],
   "source": [
    "imdb_df.head()"
   ]
  },
  {
   "cell_type": "markdown",
   "metadata": {},
   "source": [
    "Get the shape of the DF - (rows, columns):"
   ]
  },
  {
   "cell_type": "code",
   "execution_count": 5,
   "metadata": {
    "collapsed": false
   },
   "outputs": [
    {
     "name": "stdout",
     "output_type": "stream",
     "text": [
      "Rows: 100\n",
      "Columns: 7\n"
     ]
    }
   ],
   "source": [
    "dims = imdb_df.shape\n",
    "print('Rows: {}'.format(dims[0]))\n",
    "print('Columns: {}'.format(dims[1]))"
   ]
  },
  {
   "cell_type": "markdown",
   "metadata": {},
   "source": [
    "Get the column names:"
   ]
  },
  {
   "cell_type": "code",
   "execution_count": 7,
   "metadata": {
    "collapsed": false
   },
   "outputs": [
    {
     "name": "stdout",
     "output_type": "stream",
     "text": [
      "['star_rating' 'title' 'year' 'content_rating' 'genre' 'duration' 'gross']\n"
     ]
    }
   ],
   "source": [
    "print(imdb_df.columns.values)"
   ]
  },
  {
   "cell_type": "markdown",
   "metadata": {},
   "source": [
    "Get the distinct genre types:"
   ]
  },
  {
   "cell_type": "code",
   "execution_count": 8,
   "metadata": {
    "collapsed": false
   },
   "outputs": [
    {
     "name": "stdout",
     "output_type": "stream",
     "text": [
      "['Drama            ' 'Crime' 'Action' 'Biography' 'Adventure'\n",
      " 'Western            ' 'Drama' 'Animation' 'Comedy' 'Horror' 'Mystery'\n",
      " 'Comedy            ']\n"
     ]
    }
   ],
   "source": [
    "print(imdb_df.genre.unique())"
   ]
  },
  {
   "cell_type": "markdown",
   "metadata": {},
   "source": [
    "Hmmm...let's clean up genres -- some have trailing whitespace (e.g. 'Drama            '):"
   ]
  },
  {
   "cell_type": "code",
   "execution_count": 9,
   "metadata": {
    "collapsed": false
   },
   "outputs": [
    {
     "name": "stdout",
     "output_type": "stream",
     "text": [
      "['Drama' 'Crime' 'Action' 'Biography' 'Adventure' 'Western' 'Animation'\n",
      " 'Comedy' 'Horror' 'Mystery']\n"
     ]
    }
   ],
   "source": [
    "imdb_df['genre'] = [x.strip() for x in imdb_df['genre']]\n",
    "print(imdb_df.genre.unique())"
   ]
  },
  {
   "cell_type": "markdown",
   "metadata": {},
   "source": [
    "Much better! Now let's get the count as asked:"
   ]
  },
  {
   "cell_type": "code",
   "execution_count": 10,
   "metadata": {
    "collapsed": false
   },
   "outputs": [
    {
     "name": "stdout",
     "output_type": "stream",
     "text": [
      "Number of genres: 10\n"
     ]
    }
   ],
   "source": [
    "print('Number of genres: {}'.format(len(imdb_df.genre.unique())))"
   ]
  },
  {
   "cell_type": "markdown",
   "metadata": {},
   "source": [
    "Use 'groupby()' and 'count()' to get counts of titles by genre:"
   ]
  },
  {
   "cell_type": "code",
   "execution_count": 11,
   "metadata": {
    "collapsed": false
   },
   "outputs": [
    {
     "name": "stdout",
     "output_type": "stream",
     "text": [
      "           title\n",
      "genre           \n",
      "Action        17\n",
      "Adventure      9\n",
      "Animation     10\n",
      "Biography      5\n",
      "Comedy         7\n",
      "Crime         20\n",
      "Drama         25\n",
      "Horror         2\n",
      "Mystery        2\n",
      "Western        3\n"
     ]
    }
   ],
   "source": [
    "print(imdb_df[['title', 'genre']].groupby('genre').count())"
   ]
  },
  {
   "cell_type": "markdown",
   "metadata": {},
   "source": [
    "# API section"
   ]
  },
  {
   "cell_type": "markdown",
   "metadata": {},
   "source": [
    "Let's build some helper functions to assist with formatting and handling requests:"
   ]
  },
  {
   "cell_type": "markdown",
   "metadata": {},
   "source": [
    "First, we need to reformat the text of the movie title so we can plug it into the API URL.\n",
    "For example, we need **'The Shawshank Redemption'** to look like **'the+shawshank+redemption'**"
   ]
  },
  {
   "cell_type": "code",
   "execution_count": 13,
   "metadata": {
    "collapsed": true
   },
   "outputs": [],
   "source": [
    "def format_title(title):\n",
    "    t = title.lower()\n",
    "    t = t.split(' ')\n",
    "    return '+'.join(t)"
   ]
  },
  {
   "cell_type": "markdown",
   "metadata": {},
   "source": [
    "Now we can take that re-formatted title and generate the URL for the API request.\n",
    "\n",
    "Notice we are using an environment variable to store our API key *(we don't want to publish that sucker for everyone to see on GitHub!)* so be sure to export this variable as **OMDB_KEY** in your bash profile or set it using a Jupyter magic %env call."
   ]
  },
  {
   "cell_type": "code",
   "execution_count": 14,
   "metadata": {
    "collapsed": true
   },
   "outputs": [],
   "source": [
    "def get_url(title):\n",
    "    key = os.environ['OMDB_KEY']\n",
    "    title = format_title(title)\n",
    "    api_url = 'http://www.omdbapi.com/?apikey={key}&t={t}'.format(\n",
    "                key=key,\n",
    "                t=title)\n",
    "    return api_url\n"
   ]
  },
  {
   "cell_type": "markdown",
   "metadata": {},
   "source": [
    "Next we can write a quick helper function for actually making the requests and returning the data as a JSON object:"
   ]
  },
  {
   "cell_type": "code",
   "execution_count": 15,
   "metadata": {
    "collapsed": true
   },
   "outputs": [],
   "source": [
    "def make_request(url):\n",
    "    req = requests.get(url, timeout=5)\n",
    "    data = req.json()\n",
    "    return data"
   ]
  },
  {
   "cell_type": "markdown",
   "metadata": {},
   "source": [
    "The JSON returned from the API call has much more info than we need right now, so we will just pull out the values of interest. Namely, the Rotten Tomatoes Score. We can do this by ccessing the key/value pairs needed just like you would with a *dict* type.\n",
    "\n",
    "Also notice that we need to throw in some **if** statements to catch when we get some edge cases (for example, when the API fails to match the movie, or when there is no RT score for a movie)."
   ]
  },
  {
   "cell_type": "code",
   "execution_count": 16,
   "metadata": {
    "collapsed": true
   },
   "outputs": [],
   "source": [
    "def get_rt_score(json):\n",
    "    # check that the API returned valid response\n",
    "    if json['Response'] == 'True':\n",
    "        # pull out list of ratings from JSON\n",
    "        rating_list = json['Ratings']\n",
    "        # check that RT is in the Ratings section:\n",
    "        sources = [r['Source'] for r in rating_list]\n",
    "        if 'Rotten Tomatoes' in sources:\n",
    "            # loop through ratings to find RT\n",
    "            for rating in rating_list:\n",
    "                if rating['Source'] == 'Rotten Tomatoes':\n",
    "                    rt = rating['Value']\n",
    "                else:\n",
    "                    continue\n",
    "        # otherwise if RT not in ratings, then set to NULL\n",
    "        else:\n",
    "            rt = np.nan\n",
    "    # if the API did not find a match, set rating to NULL\n",
    "    else:\n",
    "        rt = np.nan\n",
    "\n",
    "    return rt"
   ]
  },
  {
   "cell_type": "markdown",
   "metadata": {},
   "source": [
    "These Rotten Tomatoes Scores are returned as a string like '86%', so we can build a simple function to convert this to a decimal value.\n",
    "\n",
    "But again, we have to watch for instances where the RT Score was returned as a NULL value, so we just some **if/else** logic:"
   ]
  },
  {
   "cell_type": "code",
   "execution_count": 17,
   "metadata": {
    "collapsed": true
   },
   "outputs": [],
   "source": [
    "def rt_to_dec(rt_score):\n",
    "    if type(rt_score) in (str, unicode):\n",
    "        # strip the percent sign from the string\n",
    "        rt = rt_score.replace('%', '')\n",
    "        # convert to decimal\n",
    "        rt = int(rt)/100.\n",
    "    else:\n",
    "        rt = rt_score\n",
    "    return rt"
   ]
  },
  {
   "cell_type": "markdown",
   "metadata": {},
   "source": [
    "We can do the same formatting for the IMDB rating so we get '0.98' instead of '9.8':"
   ]
  },
  {
   "cell_type": "code",
   "execution_count": 18,
   "metadata": {
    "collapsed": true
   },
   "outputs": [],
   "source": [
    "def imdb_to_dec(imdb_rating):\n",
    "    return imdb_rating/10."
   ]
  },
  {
   "cell_type": "markdown",
   "metadata": {},
   "source": [
    "Lastly we can build a function that gives us the Five Number Summary of a series of numbers. Because we will potentially have NULL values, we will need to use the **'nanpercentile()'** function from NumPy to get our quartle values:"
   ]
  },
  {
   "cell_type": "code",
   "execution_count": 19,
   "metadata": {
    "collapsed": true
   },
   "outputs": [],
   "source": [
    "def five_num_summ(series):\n",
    "    min = series.min()\n",
    "    q1, q2, q3 = np.nanpercentile(series, [25, 50, 75])\n",
    "    max = series.max()\n",
    "    return min, q1, q2, q3, max"
   ]
  },
  {
   "cell_type": "markdown",
   "metadata": {},
   "source": [
    "Excellent!\n",
    "Now with our helper functions in place, we can just iterate over our movie titles in our DataFrame to get the RT scores back from the API:"
   ]
  },
  {
   "cell_type": "code",
   "execution_count": 25,
   "metadata": {
    "collapsed": false
   },
   "outputs": [
    {
     "ename": "KeyError",
     "evalue": "'OMDB_KEY'",
     "output_type": "error",
     "traceback": [
      "\u001b[0;31m---------------------------------------------------------------------------\u001b[0m",
      "\u001b[0;31mKeyError\u001b[0m                                  Traceback (most recent call last)",
      "\u001b[0;32m<ipython-input-25-a30a86f6a534>\u001b[0m in \u001b[0;36m<module>\u001b[0;34m()\u001b[0m\n\u001b[1;32m      1\u001b[0m \u001b[0mrt_score\u001b[0m \u001b[0;34m=\u001b[0m \u001b[0;34m[\u001b[0m\u001b[0;34m]\u001b[0m\u001b[0;34m\u001b[0m\u001b[0m\n\u001b[1;32m      2\u001b[0m \u001b[0;32mfor\u001b[0m \u001b[0mindex\u001b[0m\u001b[0;34m,\u001b[0m \u001b[0mrow\u001b[0m \u001b[0;32min\u001b[0m \u001b[0mimdb_df\u001b[0m\u001b[0;34m.\u001b[0m\u001b[0miterrows\u001b[0m\u001b[0;34m(\u001b[0m\u001b[0;34m)\u001b[0m\u001b[0;34m:\u001b[0m\u001b[0;34m\u001b[0m\u001b[0m\n\u001b[0;32m----> 3\u001b[0;31m     \u001b[0murl\u001b[0m \u001b[0;34m=\u001b[0m \u001b[0mget_url\u001b[0m\u001b[0;34m(\u001b[0m\u001b[0mrow\u001b[0m\u001b[0;34m[\u001b[0m\u001b[0;34m'title'\u001b[0m\u001b[0;34m]\u001b[0m\u001b[0;34m)\u001b[0m\u001b[0;34m\u001b[0m\u001b[0m\n\u001b[0m\u001b[1;32m      4\u001b[0m     \u001b[0mdata\u001b[0m \u001b[0;34m=\u001b[0m \u001b[0mmake_request\u001b[0m\u001b[0;34m(\u001b[0m\u001b[0murl\u001b[0m\u001b[0;34m)\u001b[0m\u001b[0;34m\u001b[0m\u001b[0m\n\u001b[1;32m      5\u001b[0m     \u001b[0mrt\u001b[0m \u001b[0;34m=\u001b[0m \u001b[0mget_rt_score\u001b[0m\u001b[0;34m(\u001b[0m\u001b[0mdata\u001b[0m\u001b[0;34m)\u001b[0m\u001b[0;34m\u001b[0m\u001b[0m\n",
      "\u001b[0;32m<ipython-input-14-47f0f3d85efa>\u001b[0m in \u001b[0;36mget_url\u001b[0;34m(title)\u001b[0m\n\u001b[1;32m      1\u001b[0m \u001b[0;32mdef\u001b[0m \u001b[0mget_url\u001b[0m\u001b[0;34m(\u001b[0m\u001b[0mtitle\u001b[0m\u001b[0;34m)\u001b[0m\u001b[0;34m:\u001b[0m\u001b[0;34m\u001b[0m\u001b[0m\n\u001b[0;32m----> 2\u001b[0;31m     \u001b[0mkey\u001b[0m \u001b[0;34m=\u001b[0m \u001b[0mos\u001b[0m\u001b[0;34m.\u001b[0m\u001b[0menviron\u001b[0m\u001b[0;34m[\u001b[0m\u001b[0;34m'OMDB_KEY'\u001b[0m\u001b[0;34m]\u001b[0m\u001b[0;34m\u001b[0m\u001b[0m\n\u001b[0m\u001b[1;32m      3\u001b[0m     \u001b[0mtitle\u001b[0m \u001b[0;34m=\u001b[0m \u001b[0mformat_title\u001b[0m\u001b[0;34m(\u001b[0m\u001b[0mtitle\u001b[0m\u001b[0;34m)\u001b[0m\u001b[0;34m\u001b[0m\u001b[0m\n\u001b[1;32m      4\u001b[0m     api_url = 'http://www.omdbapi.com/?apikey={key}&t={t}'.format(\n\u001b[1;32m      5\u001b[0m                 \u001b[0mkey\u001b[0m\u001b[0;34m=\u001b[0m\u001b[0mkey\u001b[0m\u001b[0;34m,\u001b[0m\u001b[0;34m\u001b[0m\u001b[0m\n",
      "\u001b[0;32m/Users/siannaccone/anaconda2/envs/py3/lib/python3.6/os.py\u001b[0m in \u001b[0;36m__getitem__\u001b[0;34m(self, key)\u001b[0m\n\u001b[1;32m    667\u001b[0m         \u001b[0;32mexcept\u001b[0m \u001b[0mKeyError\u001b[0m\u001b[0;34m:\u001b[0m\u001b[0;34m\u001b[0m\u001b[0m\n\u001b[1;32m    668\u001b[0m             \u001b[0;31m# raise KeyError with the original key value\u001b[0m\u001b[0;34m\u001b[0m\u001b[0;34m\u001b[0m\u001b[0m\n\u001b[0;32m--> 669\u001b[0;31m             \u001b[0;32mraise\u001b[0m \u001b[0mKeyError\u001b[0m\u001b[0;34m(\u001b[0m\u001b[0mkey\u001b[0m\u001b[0;34m)\u001b[0m \u001b[0;32mfrom\u001b[0m \u001b[0;32mNone\u001b[0m\u001b[0;34m\u001b[0m\u001b[0m\n\u001b[0m\u001b[1;32m    670\u001b[0m         \u001b[0;32mreturn\u001b[0m \u001b[0mself\u001b[0m\u001b[0;34m.\u001b[0m\u001b[0mdecodevalue\u001b[0m\u001b[0;34m(\u001b[0m\u001b[0mvalue\u001b[0m\u001b[0;34m)\u001b[0m\u001b[0;34m\u001b[0m\u001b[0m\n\u001b[1;32m    671\u001b[0m \u001b[0;34m\u001b[0m\u001b[0m\n",
      "\u001b[0;31mKeyError\u001b[0m: 'OMDB_KEY'"
     ]
    }
   ],
   "source": [
    "rt_score = []\n",
    "for index, row in imdb_df.iterrows():\n",
    "    url = get_url(row['title'])\n",
    "    data = make_request(url)\n",
    "    rt = get_rt_score(data)\n",
    "    rt = rt_to_dec(rt)\n",
    "    rt_score.append(rt)\n",
    "\n",
    "imdb_df['rt_score'] = rt_score"
   ]
  },
  {
   "cell_type": "markdown",
   "metadata": {},
   "source": [
    "In case we got a **KeyError** thrown on that last cell, I have dumped the resulting values into a new .csv file in the repo so we can continue.\n",
    "\n",
    "Let's read that in and we can proceed with out having to worry about API keys."
   ]
  },
  {
   "cell_type": "code",
   "execution_count": 27,
   "metadata": {
    "collapsed": false
   },
   "outputs": [],
   "source": [
    "imdb_df = pd.read_csv('https://raw.githubusercontent.com/whsky/imdb_100/master/data/imdb_100_mod.csv')"
   ]
  },
  {
   "cell_type": "markdown",
   "metadata": {},
   "source": [
    "Now we need to re-sort the DataFrame based on Rotten Tomatoes Scores and get the top five titles:"
   ]
  },
  {
   "cell_type": "code",
   "execution_count": 28,
   "metadata": {
    "collapsed": false
   },
   "outputs": [
    {
     "name": "stdout",
     "output_type": "stream",
     "text": [
      "0                  Seven Samurai\n",
      "5                   Modern Times\n",
      "8                    Rear Window\n",
      "7    Witness for the Prosecution\n",
      "6                   12 Angry Men\n",
      "Name: title, dtype: object\n"
     ]
    }
   ],
   "source": [
    "# sort the DF by RT scores\n",
    "imdb_df.sort_values(by='rt_score', ascending=False, inplace=True)\n",
    "# Top 5 by RT score\n",
    "print(imdb_df.head(5)['title'])"
   ]
  },
  {
   "cell_type": "markdown",
   "metadata": {},
   "source": [
    "Let's get the top 5 \"R\" rated movies:"
   ]
  },
  {
   "cell_type": "code",
   "execution_count": 30,
   "metadata": {
    "collapsed": false
   },
   "outputs": [
    {
     "name": "stdout",
     "output_type": "stream",
     "text": [
      "                title content_rating  rt_score\n",
      "1        Citizen Kane              R      1.00\n",
      "2           Toy Story              R      1.00\n",
      "10  L.A. Confidential              R      0.99\n",
      "11        Taxi Driver              R      0.98\n",
      "12        Toy Story 3              R      0.98\n"
     ]
    }
   ],
   "source": [
    "print(imdb_df[imdb_df['content_rating']=='R'].head(5)[['title', 'content_rating', 'rt_score']])"
   ]
  },
  {
   "cell_type": "markdown",
   "metadata": {},
   "source": [
    "Looks like some movies are mis-rated **(e.g. Toy Story is not likely \"R\" rated)**"
   ]
  },
  {
   "cell_type": "markdown",
   "metadata": {},
   "source": [
    "How about the average RT score:"
   ]
  },
  {
   "cell_type": "code",
   "execution_count": 31,
   "metadata": {
    "collapsed": false
   },
   "outputs": [
    {
     "name": "stdout",
     "output_type": "stream",
     "text": [
      "Avg. Rotten Tomatoes Score: 0.9137234042553192\n"
     ]
    }
   ],
   "source": [
    "avg_rt = imdb_df['rt_score'].mean()\n",
    "print('Avg. Rotten Tomatoes Score: {}'.format(avg_rt))"
   ]
  },
  {
   "cell_type": "markdown",
   "metadata": {},
   "source": [
    "Now let's get the 5 number summary (min, 1st q, 2nd q, 3rd q, max):"
   ]
  },
  {
   "cell_type": "code",
   "execution_count": 33,
   "metadata": {
    "collapsed": false
   },
   "outputs": [
    {
     "name": "stdout",
     "output_type": "stream",
     "text": [
      "min: 0.72\n",
      "\n",
      "1st Qrt: 0.88\n",
      "\n",
      "2nd Qrt: 0.93\n",
      "\n",
      "3rd Qrt: 0.97\n",
      "\n",
      "max: 1.0\n"
     ]
    }
   ],
   "source": [
    "min, q1, q2, q3, max = five_num_summ(imdb_df['rt_score'])\n",
    "print('''min: {min}\\n\n",
    "1st Qrt: {q1}\\n\n",
    "2nd Qrt: {q2}\\n\n",
    "3rd Qrt: {q3}\\n\n",
    "max: {max}'''.format(\n",
    "    min=min, q1=q1, q2=q2, q3=q3, max=max)\n",
    ")"
   ]
  },
  {
   "cell_type": "markdown",
   "metadata": {},
   "source": [
    "Now we can convert the IMDB rating to the same decimal scale as our RT Scores -- [0,1]:"
   ]
  },
  {
   "cell_type": "code",
   "execution_count": 35,
   "metadata": {
    "collapsed": true
   },
   "outputs": [],
   "source": [
    "star_dec = [imdb_to_dec(x) for x in imdb_df['star_rating']]\n",
    "imdb_df['star_decimal'] = star_dec"
   ]
  },
  {
   "cell_type": "markdown",
   "metadata": {},
   "source": [
    "And we can build the ratio of IMDB rating / RT Score:"
   ]
  },
  {
   "cell_type": "code",
   "execution_count": 36,
   "metadata": {
    "collapsed": true
   },
   "outputs": [],
   "source": [
    "ratio = imdb_df['star_decimal'] / imdb_df['rt_score']\n",
    "imdb_df['ratio'] = ratio"
   ]
  },
  {
   "cell_type": "markdown",
   "metadata": {},
   "source": [
    "Now we can get the titles with the largest and smallest ratios:"
   ]
  },
  {
   "cell_type": "code",
   "execution_count": 39,
   "metadata": {
    "collapsed": false
   },
   "outputs": [
    {
     "name": "stdout",
     "output_type": "stream",
     "text": [
      "Highest IMDB / RT ratio:\n",
      " Forrest Gump (1.2222222222222223)\n",
      "\n",
      "Lowest IMDB / RT ratio:\n",
      " Toy Story (0.8300000000000001)\n"
     ]
    }
   ],
   "source": [
    "max_ratio = imdb_df['ratio'].max()\n",
    "max_title = imdb_df[imdb_df['ratio'] == max_ratio]['title'].values[0]\n",
    "print('Highest IMDB / RT ratio:\\n {0} ({1})'.format(max_title, max_ratio))\n",
    "\n",
    "min_ratio = imdb_df['ratio'].min()\n",
    "min_title = imdb_df[imdb_df['ratio'] == min_ratio]['title'].values[0]\n",
    "print('\\nLowest IMDB / RT ratio:\\n {0} ({1})'.format(min_title, min_ratio))"
   ]
  },
  {
   "cell_type": "markdown",
   "metadata": {},
   "source": [
    "# Plots"
   ]
  },
  {
   "cell_type": "code",
   "execution_count": 40,
   "metadata": {
    "collapsed": true
   },
   "outputs": [],
   "source": [
    "%matplotlib inline\n",
    "import matplotlib.pyplot as plt"
   ]
  },
  {
   "cell_type": "markdown",
   "metadata": {},
   "source": [
    "### Regression Plots to show relationship between two fields:"
   ]
  },
  {
   "cell_type": "markdown",
   "metadata": {},
   "source": [
    "RT Score vs. IMDB Rating:"
   ]
  },
  {
   "cell_type": "code",
   "execution_count": 41,
   "metadata": {
    "collapsed": false
   },
   "outputs": [
    {
     "data": {
      "image/png": "[encoded data removed]",
      "text/plain": [
       "<matplotlib.figure.Figure at 0x11d2e2eb8>"
      ]
     },
     "metadata": {},
     "output_type": "display_data"
    }
   ],
   "source": [
    "x = imdb_df['rt_score']\n",
    "y = imdb_df['star_decimal']\n",
    "sns.regplot(x=x, y=y)\n",
    "plt.xlabel('Rotten Tomatoes Score')\n",
    "plt.ylabel('IMDB Rating')\n",
    "plt.show()"
   ]
  },
  {
   "cell_type": "markdown",
   "metadata": {},
   "source": [
    "Duration vs IMDB Rating:"
   ]
  },
  {
   "cell_type": "code",
   "execution_count": 42,
   "metadata": {
    "collapsed": false
   },
   "outputs": [
    {
     "data": {
      "image/png": "[encoded data removed]",
      "text/plain": [
       "<matplotlib.figure.Figure at 0x11d2e27b8>"
      ]
     },
     "metadata": {},
     "output_type": "display_data"
    }
   ],
   "source": [
    "x = imdb_df['duration']\n",
    "sns.regplot(x=x, y=y)\n",
    "plt.xlabel('Movie Duration (mins)')\n",
    "plt.ylabel('IMDB Rating')\n",
    "plt.show()"
   ]
  },
  {
   "cell_type": "markdown",
   "metadata": {},
   "source": [
    "Bar graph of title counts by genre:"
   ]
  },
  {
   "cell_type": "code",
   "execution_count": 44,
   "metadata": {
    "collapsed": false
   },
   "outputs": [
    {
     "data": {
      "image/png": "[encoded data removed]",
      "text/plain": [
       "<matplotlib.figure.Figure at 0x11faa6a90>"
      ]
     },
     "metadata": {},
     "output_type": "display_data"
    }
   ],
   "source": [
    "imdb_df[['title', 'genre']].groupby('genre').count().plot(\n",
    "    kind='bar',\n",
    "    title='Title Count by Genre',\n",
    "    legend=False\n",
    "    )\n",
    "plt.xlabel('Genre')\n",
    "plt.ylabel('Title Count')\n",
    "plt.show()"
   ]
  },
  {
   "cell_type": "markdown",
   "metadata": {},
   "source": [
    "Histogram of RT Scores:"
   ]
  },
  {
   "cell_type": "code",
   "execution_count": 45,
   "metadata": {
    "collapsed": false
   },
   "outputs": [
    {
     "data": {
      "image/png": "[encoded data removed]",
      "text/plain": [
       "<matplotlib.figure.Figure at 0x11da70320>"
      ]
     },
     "metadata": {},
     "output_type": "display_data"
    }
   ],
   "source": [
    "imdb_df['rt_score'].plot(\n",
    "    kind='hist',\n",
    "    title='Histogram of Rotten Tomatoes Scores'\n",
    "    )\n",
    "plt.xlabel('Rotten Tomatoes Score')\n",
    "plt.show()"
   ]
  },
  {
   "cell_type": "markdown",
   "metadata": {},
   "source": [
    "Lastly, let's take a look at how the ratings are distributed by release year. In other words, do we see a change in rating distributions over time?"
   ]
  },
  {
   "cell_type": "code",
   "execution_count": 51,
   "metadata": {
    "collapsed": false
   },
   "outputs": [
    {
     "name": "stdout",
     "output_type": "stream",
     "text": [
      "       title\n",
      "year        \n",
      "-2017      1\n",
      " 1931      2\n",
      " 1936      1\n",
      " 1940      1\n",
      " 1941      1\n",
      " 1942      1\n",
      " 1946      1\n",
      " 1950      1\n",
      " 1954      2\n",
      " 1957      3\n",
      " 1960      1\n",
      " 1964      1\n",
      " 1965      1\n",
      " 1966      1\n",
      " 1968      2\n",
      " 1971      1\n",
      " 1972      1\n",
      " 1974      1\n",
      " 1975      1\n",
      " 1976      1\n",
      " 1977      1\n",
      " 1979      2\n",
      " 1980      2\n",
      " 1981      2\n",
      " 1983      2\n",
      " 1984      1\n",
      " 1985      1\n",
      " 1986      1\n",
      " 1987      1\n",
      " 1988      2\n",
      " 1989      1\n",
      " 1990      1\n",
      " 1991      2\n",
      " 1992      1\n",
      " 1993      1\n",
      " 1994      5\n",
      " 1995      4\n",
      " 1997      4\n",
      " 1998      2\n",
      " 1999      4\n",
      " 2000      4\n",
      " 2001      2\n",
      " 2002      3\n",
      " 2003      2\n",
      " 2004      1\n",
      " 2005      2\n",
      " 2006      3\n",
      " 2007      1\n",
      " 2008      2\n",
      " 2009      3\n",
      " 2010      2\n",
      " 2011      1\n",
      " 2012      3\n",
      " 2014      2\n",
      " 2016      2\n",
      " 2017      1\n",
      " 2018      1\n"
     ]
    }
   ],
   "source": [
    "print(imdb_df[['title', 'year']].groupby('year').count())"
   ]
  },
  {
   "cell_type": "markdown",
   "metadata": {},
   "source": [
    "Hmmm...seems like some more data entry issues (the year '-2017')"
   ]
  },
  {
   "cell_type": "code",
   "execution_count": 57,
   "metadata": {
    "collapsed": false
   },
   "outputs": [
    {
     "data": {
      "image/png": "[encoded data removed]",
      "text/plain": [
       "<matplotlib.figure.Figure at 0x11fd92320>"
      ]
     },
     "metadata": {},
     "output_type": "display_data"
    }
   ],
   "source": [
    "plt.rcParams['figure.figsize'] = [10, 5]\n",
    "\n",
    "sub_df = imdb_df[['year', 'rt_score']].sort_values(by='year')\n",
    "x = abs(sub_df['year'])\n",
    "y = sub_df['rt_score']\n",
    "plt.scatter(x=x, y=y, c='r', alpha=0.4)\n",
    "plt.xlabel('Rlease Year')\n",
    "plt.ylabel('Rotten Tomatoes Score')\n",
    "plt.xticks(rotation=90)\n",
    "plt.show()"
   ]
  },
  {
   "cell_type": "markdown",
   "metadata": {},
   "source": [
    "We can see that the range of values tends to widen out as the movies get newer...this implies that there may be some dependency on rlease date to the RT Score."
   ]
  },
  {
   "cell_type": "code",
   "execution_count": null,
   "metadata": {
    "collapsed": true
   },
   "outputs": [],
   "source": []
  }
 ],
 "metadata": {
  "anaconda-cloud": {},
  "kernelspec": {
   "display_name": "Python [conda env:py3]",
   "language": "python",
   "name": "conda-env-py3-py"
  },
  "language_info": {
   "codemirror_mode": {
    "name": "ipython",
    "version": 3
   },
   "file_extension": ".py",
   "mimetype": "text/x-python",
   "name": "python",
   "nbconvert_exporter": "python",
   "pygments_lexer": "ipython3",
   "version": "3.6.1"
  }
 },
 "nbformat": 4,
 "nbformat_minor": 2
}
